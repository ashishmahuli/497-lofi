{
 "cells": [
  {
   "cell_type": "code",
   "execution_count": 11,
   "id": "prescribed-lindsay",
   "metadata": {},
   "outputs": [],
   "source": [
    "from fillpdf import fillpdfs\n"
   ]
  },
  {
   "cell_type": "code",
   "execution_count": 31,
   "id": "expensive-incentive",
   "metadata": {},
   "outputs": [],
   "source": [
    "x=fillpdfs.get_form_fields(\"test-copy.pdf\")"
   ]
  },
  {
   "cell_type": "code",
   "execution_count": 32,
   "id": "graduate-scanner",
   "metadata": {},
   "outputs": [
    {
     "data": {
      "text/plain": [
       "' Complete Last Name'"
      ]
     },
     "execution_count": 32,
     "metadata": {},
     "output_type": "execute_result"
    }
   ],
   "source": [
    "(list(x.keys()))[3]"
   ]
  },
  {
   "cell_type": "code",
   "execution_count": 17,
   "id": "neither-support",
   "metadata": {},
   "outputs": [],
   "source": [
    "data_dict = {}\n",
    "\n",
    "for index, field in enumerate(x):\n",
    "    data_dict[field] = index\n",
    "\n",
    "\n",
    "\n",
    "fillpdfs.write_fillable_pdf('test-copy.pdf', 'new.pdf', data_dict)"
   ]
  },
  {
   "cell_type": "code",
   "execution_count": null,
   "id": "flexible-world",
   "metadata": {},
   "outputs": [],
   "source": []
  }
 ],
 "metadata": {
  "kernelspec": {
   "display_name": "Python 3",
   "language": "python",
   "name": "python3"
  },
  "language_info": {
   "codemirror_mode": {
    "name": "ipython",
    "version": 3
   },
   "file_extension": ".py",
   "mimetype": "text/x-python",
   "name": "python",
   "nbconvert_exporter": "python",
   "pygments_lexer": "ipython3",
   "version": "3.9.1"
  }
 },
 "nbformat": 4,
 "nbformat_minor": 5
}
